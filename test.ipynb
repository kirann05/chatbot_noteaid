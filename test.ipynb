{
 "cells": [
  {
   "cell_type": "code",
   "execution_count": 10,
   "metadata": {},
   "outputs": [],
   "source": [
    "import json\n",
    "\n",
    "with open(\"annotations/wjang.json\", \"r\") as f :\n",
    "    data = json.load(f)"
   ]
  },
  {
   "cell_type": "code",
   "execution_count": 13,
   "metadata": {},
   "outputs": [
    {
     "data": {
      "text/plain": [
       "[[{'choice': '0', 'comment': None},\n",
       "  {'choice': '2', 'comment': 'no way!'},\n",
       "  {'choice': None, 'comment': None},\n",
       "  {'choice': None, 'comment': None},\n",
       "  {'choice': None, 'comment': None}],\n",
       " [{'choice': None, 'comment': None},\n",
       "  {'choice': None, 'comment': None},\n",
       "  {'choice': None, 'comment': None},\n",
       "  {'choice': None, 'comment': None},\n",
       "  {'choice': None, 'comment': None},\n",
       "  {'choice': None, 'comment': None}],\n",
       " [{'choice': None, 'comment': None},\n",
       "  {'choice': None, 'comment': None},\n",
       "  {'choice': None, 'comment': None},\n",
       "  {'choice': None, 'comment': None},\n",
       "  {'choice': None, 'comment': None},\n",
       "  {'choice': None, 'comment': None}],\n",
       " [{'choice': None, 'comment': None},\n",
       "  {'choice': None, 'comment': None},\n",
       "  {'choice': None, 'comment': None},\n",
       "  {'choice': None, 'comment': None},\n",
       "  {'choice': None, 'comment': None},\n",
       "  {'choice': None, 'comment': None},\n",
       "  {'choice': None, 'comment': None}],\n",
       " [{'choice': None, 'comment': None},\n",
       "  {'choice': None, 'comment': None},\n",
       "  {'choice': None, 'comment': None},\n",
       "  {'choice': None, 'comment': None},\n",
       "  {'choice': None, 'comment': None},\n",
       "  {'choice': None, 'comment': None},\n",
       "  {'choice': None, 'comment': None},\n",
       "  {'choice': None, 'comment': None},\n",
       "  {'choice': None, 'comment': None}],\n",
       " [{'choice': None, 'comment': None},\n",
       "  {'choice': None, 'comment': None},\n",
       "  {'choice': None, 'comment': None},\n",
       "  {'choice': None, 'comment': None},\n",
       "  {'choice': None, 'comment': None},\n",
       "  {'choice': None, 'comment': None}],\n",
       " [{'choice': None, 'comment': None},\n",
       "  {'choice': None, 'comment': None},\n",
       "  {'choice': None, 'comment': None},\n",
       "  {'choice': None, 'comment': None},\n",
       "  {'choice': None, 'comment': None},\n",
       "  {'choice': None, 'comment': None},\n",
       "  {'choice': None, 'comment': None},\n",
       "  {'choice': None, 'comment': None}],\n",
       " [{'choice': None, 'comment': None},\n",
       "  {'choice': None, 'comment': None},\n",
       "  {'choice': None, 'comment': None},\n",
       "  {'choice': None, 'comment': None},\n",
       "  {'choice': None, 'comment': None}],\n",
       " [{'choice': None, 'comment': None},\n",
       "  {'choice': None, 'comment': None},\n",
       "  {'choice': None, 'comment': None},\n",
       "  {'choice': None, 'comment': None},\n",
       "  {'choice': None, 'comment': None}],\n",
       " [{'choice': None, 'comment': None},\n",
       "  {'choice': None, 'comment': None},\n",
       "  {'choice': None, 'comment': None},\n",
       "  {'choice': None, 'comment': None},\n",
       "  {'choice': None, 'comment': None}],\n",
       " [{'choice': None, 'comment': None},\n",
       "  {'choice': None, 'comment': None},\n",
       "  {'choice': None, 'comment': None},\n",
       "  {'choice': None, 'comment': None},\n",
       "  {'choice': None, 'comment': None},\n",
       "  {'choice': None, 'comment': None}],\n",
       " [{'choice': None, 'comment': None},\n",
       "  {'choice': None, 'comment': None},\n",
       "  {'choice': None, 'comment': None},\n",
       "  {'choice': None, 'comment': None},\n",
       "  {'choice': None, 'comment': None}],\n",
       " [{'choice': None, 'comment': None},\n",
       "  {'choice': None, 'comment': None},\n",
       "  {'choice': None, 'comment': None},\n",
       "  {'choice': None, 'comment': None},\n",
       "  {'choice': None, 'comment': None}],\n",
       " [{'choice': None, 'comment': None},\n",
       "  {'choice': None, 'comment': None},\n",
       "  {'choice': None, 'comment': None},\n",
       "  {'choice': None, 'comment': None},\n",
       "  {'choice': None, 'comment': None},\n",
       "  {'choice': None, 'comment': None},\n",
       "  {'choice': None, 'comment': None}]]"
      ]
     },
     "execution_count": 13,
     "metadata": {},
     "output_type": "execute_result"
    }
   ],
   "source": [
    "data"
   ]
  }
 ],
 "metadata": {
  "kernelspec": {
   "display_name": "base",
   "language": "python",
   "name": "python3"
  },
  "language_info": {
   "codemirror_mode": {
    "name": "ipython",
    "version": 3
   },
   "file_extension": ".py",
   "mimetype": "text/x-python",
   "name": "python",
   "nbconvert_exporter": "python",
   "pygments_lexer": "ipython3",
   "version": "3.11.5"
  }
 },
 "nbformat": 4,
 "nbformat_minor": 2
}
